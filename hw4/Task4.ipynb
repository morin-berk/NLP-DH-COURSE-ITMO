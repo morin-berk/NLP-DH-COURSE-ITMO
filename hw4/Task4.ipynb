{
 "cells": [
  {
   "cell_type": "code",
   "execution_count": 6,
   "id": "92343e38",
   "metadata": {},
   "outputs": [],
   "source": [
    "import nltk                                # Python library for NLP\n",
    "from nltk.corpus import twitter_samples    # sample Twitter dataset from NLTK\n",
    "import matplotlib.pyplot as plt            # library for visualization\n",
    "import random \n",
    "from sklearn.model_selection import train_test_split\n",
    "import numpy as np \n",
    "import pandas as pd \n",
    "import re\n",
    "%matplotlib inline\n",
    "import pandas as pd"
   ]
  },
  {
   "cell_type": "code",
   "execution_count": 10,
   "id": "a5518bab",
   "metadata": {},
   "outputs": [],
   "source": [
    "df=pd.read_csv(\"reviews.tsv\", sep='\\t')"
   ]
  },
  {
   "cell_type": "code",
   "execution_count": 11,
   "id": "25f93d32",
   "metadata": {},
   "outputs": [],
   "source": [
    "#features = df.iloc[:, 10].values\n",
    "labels = df.iloc[:, 1].values"
   ]
  },
  {
   "cell_type": "code",
   "execution_count": 12,
   "id": "496fc88d",
   "metadata": {},
   "outputs": [
    {
     "name": "stdout",
     "output_type": "stream",
     "text": [
      "[4. 1. 4. ... 5. 1. 1.]\n"
     ]
    }
   ],
   "source": [
    "print(labels)"
   ]
  },
  {
   "cell_type": "code",
   "execution_count": 13,
   "id": "9b61766c",
   "metadata": {},
   "outputs": [],
   "source": [
    "labels = df['rating']"
   ]
  },
  {
   "cell_type": "code",
   "execution_count": 14,
   "id": "cc73b3b3",
   "metadata": {},
   "outputs": [
    {
     "data": {
      "text/plain": [
       "0         4.0\n",
       "1         1.0\n",
       "2         4.0\n",
       "3         1.0\n",
       "4         5.0\n",
       "         ... \n",
       "328640    5.0\n",
       "328641    5.0\n",
       "328642    5.0\n",
       "328643    1.0\n",
       "328644    1.0\n",
       "Name: rating, Length: 328645, dtype: float64"
      ]
     },
     "execution_count": 14,
     "metadata": {},
     "output_type": "execute_result"
    }
   ],
   "source": [
    "labels"
   ]
  },
  {
   "cell_type": "code",
   "execution_count": 19,
   "id": "0fcee7ec",
   "metadata": {},
   "outputs": [],
   "source": [
    "reviews = df.iloc[:, 2].values"
   ]
  },
  {
   "cell_type": "code",
   "execution_count": 20,
   "id": "c7e42cee",
   "metadata": {},
   "outputs": [
    {
     "name": "stdout",
     "output_type": "stream",
     "text": [
      "['Вкусная питца, естт летнее кафе, доставка, приемлемые цены!'\n",
      " 'Думал можно днём с детьми посидеть на открытой площадке, но больше туда не придем. Курят все кому не лень. А приходить с мыслью, ну а вдруг курить не будут? - Глупая лотерея.  Далеко нам ещё до Европы...'\n",
      " 'Есть веранда, вкусная пицца, делают по половине, паковка сзади заведения всегда занята, туалеты грязные'\n",
      " ... 'Все понравилось! Пицца норм'\n",
      " 'обслуживание нормальное, соотношение цена/качество порции не соответствует вообще, в карбонате попался волос, ужасное место '\n",
      " 'Ооочень долгое обслуживание.  Необоснованно высокий ценник. К тому же владелец ужасный хам. К немногочисленным посетителям и то относится неуважительно. Сидя за соседним столом, назвал клиентов нищебродами, так чтобы всем вокруг было слышно. Место не рекомендуем. ']\n"
     ]
    }
   ],
   "source": [
    "print(reviews)"
   ]
  },
  {
   "cell_type": "code",
   "execution_count": 23,
   "id": "884af523",
   "metadata": {},
   "outputs": [],
   "source": [
    "reviews = df['review_text']"
   ]
  },
  {
   "cell_type": "code",
   "execution_count": 24,
   "id": "66c7fb9d",
   "metadata": {},
   "outputs": [
    {
     "data": {
      "text/plain": [
       "0         Вкусная питца, естт летнее кафе, доставка, при...\n",
       "1         Думал можно днём с детьми посидеть на открытой...\n",
       "2         Есть веранда, вкусная пицца, делают по половин...\n",
       "3                          Уже второй раз забивают на заказ\n",
       "4                                       Любимая пиццерия! 👍\n",
       "                                ...                        \n",
       "328640                              Очень вкусная пицца!!!!\n",
       "328641    Лучший борщ на Роза Хутор!!! Большая порция, т...\n",
       "328642                          Все понравилось! Пицца норм\n",
       "328643    обслуживание нормальное, соотношение цена/каче...\n",
       "328644    Ооочень долгое обслуживание.  Необоснованно вы...\n",
       "Name: review_text, Length: 328645, dtype: object"
      ]
     },
     "execution_count": 24,
     "metadata": {},
     "output_type": "execute_result"
    }
   ],
   "source": [
    "reviews"
   ]
  },
  {
   "cell_type": "code",
   "execution_count": null,
   "id": "6b46c88b",
   "metadata": {},
   "outputs": [],
   "source": [
    " X_train, X_test, y_train, y_test = train_test_split(\n",
    "X, y, test_size=0.33, random_state=42)"
   ]
  }
 ],
 "metadata": {
  "kernelspec": {
   "display_name": "Python 3",
   "language": "python",
   "name": "python3"
  },
  "language_info": {
   "codemirror_mode": {
    "name": "ipython",
    "version": 3
   },
   "file_extension": ".py",
   "mimetype": "text/x-python",
   "name": "python",
   "nbconvert_exporter": "python",
   "pygments_lexer": "ipython3",
   "version": "3.8.8"
  }
 },
 "nbformat": 4,
 "nbformat_minor": 5
}
