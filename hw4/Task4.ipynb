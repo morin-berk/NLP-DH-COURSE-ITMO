{
 "cells": [
  {
   "cell_type": "code",
   "execution_count": 80,
   "id": "92343e38",
   "metadata": {},
   "outputs": [],
   "source": [
    "import nltk                                # Python library for NLP\n",
    "from nltk.corpus import twitter_samples    # sample Twitter dataset from NLTK\n",
    "import matplotlib.pyplot as plt            # library for visualization\n",
    "import random \n",
    "from sklearn.model_selection import train_test_split\n",
    "import numpy as np \n",
    "import pandas as pd \n",
    "import re\n",
    "%matplotlib inline\n",
    "import pandas as pd"
   ]
  },
  {
   "cell_type": "code",
   "execution_count": 81,
   "id": "a5518bab",
   "metadata": {},
   "outputs": [],
   "source": [
    "df=pd.read_csv(\"reviews.tsv\", sep='\\t')"
   ]
  },
  {
   "cell_type": "code",
   "execution_count": 82,
   "id": "9b61766c",
   "metadata": {},
   "outputs": [],
   "source": [
    "# labels = df['rating']\n",
    "# reviews = df['review_text']"
   ]
  },
  {
   "cell_type": "markdown",
   "id": "83defd2d",
   "metadata": {},
   "source": [
    "Cleaning data from zero rating scores."
   ]
  },
  {
   "cell_type": "code",
   "execution_count": 83,
   "id": "735b81ad",
   "metadata": {},
   "outputs": [
    {
     "name": "stdout",
     "output_type": "stream",
     "text": [
      "           permalink  rating  \\\n",
      "0         1000095379     4.0   \n",
      "1         1000095379     1.0   \n",
      "2         1000095379     4.0   \n",
      "3         1000095379     1.0   \n",
      "4         1000095379     5.0   \n",
      "...              ...     ...   \n",
      "328640  245591834558     5.0   \n",
      "328641  245591834558     5.0   \n",
      "328642  245591834558     5.0   \n",
      "328643  245591834558     1.0   \n",
      "328644  245591834558     1.0   \n",
      "\n",
      "                                              review_text  \n",
      "0       Вкусная питца, естт летнее кафе, доставка, при...  \n",
      "1       Думал можно днём с детьми посидеть на открытой...  \n",
      "2       Есть веранда, вкусная пицца, делают по половин...  \n",
      "3                        Уже второй раз забивают на заказ  \n",
      "4                                     Любимая пиццерия! 👍  \n",
      "...                                                   ...  \n",
      "328640                            Очень вкусная пицца!!!!  \n",
      "328641  Лучший борщ на Роза Хутор!!! Большая порция, т...  \n",
      "328642                        Все понравилось! Пицца норм  \n",
      "328643  обслуживание нормальное, соотношение цена/каче...  \n",
      "328644  Ооочень долгое обслуживание.  Необоснованно вы...  \n",
      "\n",
      "[328369 rows x 3 columns]\n"
     ]
    }
   ],
   "source": [
    "cleaned = df.loc[df['rating'].isin([1, 2, 3, 4, 5])]\n",
    "print(cleaned)"
   ]
  },
  {
   "cell_type": "markdown",
   "id": "e7c2d1e4",
   "metadata": {},
   "source": [
    "Taking the first 30.000 raviews."
   ]
  },
  {
   "cell_type": "code",
   "execution_count": 137,
   "id": "c5d6db9f",
   "metadata": {},
   "outputs": [],
   "source": [
    "cleaned = cleaned[:50000]\n",
    "# print(cleaned['rating'])"
   ]
  },
  {
   "cell_type": "markdown",
   "id": "26aea696",
   "metadata": {},
   "source": [
    "Cleaning reviews from stop-words, etc."
   ]
  },
  {
   "cell_type": "code",
   "execution_count": 138,
   "id": "679b0fe4",
   "metadata": {},
   "outputs": [],
   "source": [
    "import re\n",
    "import string\n",
    "import numpy as np\n",
    "\n",
    "from nltk.corpus import stopwords\n",
    "from nltk.stem import PorterStemmer\n",
    "from nltk.tokenize import TweetTokenizer"
   ]
  },
  {
   "cell_type": "code",
   "execution_count": 139,
   "id": "a33f8c0b",
   "metadata": {},
   "outputs": [],
   "source": [
    "def process_tweet(tweet):\n",
    "    stemmer = PorterStemmer()\n",
    "    stopwords_russian = stopwords.words('russian')\n",
    "    # remove stock market tickers like $GE\n",
    "    tweet = re.sub(r'\\$\\w*', '', tweet)\n",
    "    # remove old style retweet text \"RT\"\n",
    "    tweet = re.sub(r'^RT[\\s]+', '', tweet)\n",
    "    # remove hyperlinks\n",
    "    tweet = re.sub(r'https?:\\/\\/.*[\\r\\n]*', '', tweet)\n",
    "    # remove hashtags\n",
    "    # only removing the hash # sign from the word\n",
    "    tweet = re.sub(r'#', '', tweet)\n",
    "    # tokenize tweets\n",
    "    tokenizer = TweetTokenizer(preserve_case=False, strip_handles=True,\n",
    "                               reduce_len=True)\n",
    "    tweet_tokens = tokenizer.tokenize(tweet)\n",
    "\n",
    "    tweets_clean = []\n",
    "    for word in tweet_tokens:\n",
    "        if (word not in stopwords_russian and  # remove stopwords\n",
    "                word not in string.punctuation):  # remove punctuation\n",
    "            # tweets_clean.append(word)\n",
    "            stem_word = stemmer.stem(word)  # stemming word\n",
    "            tweets_clean.append(stem_word)\n",
    "    \n",
    "    tweets_clean = \" \".join(tweets_clean)\n",
    "\n",
    "    return tweets_clean"
   ]
  },
  {
   "cell_type": "code",
   "execution_count": 142,
   "id": "4cbbf71c",
   "metadata": {},
   "outputs": [
    {
     "name": "stdout",
     "output_type": "stream",
     "text": [
      "        permalink  rating                                        review_text  \\\n",
      "0      1000095379     4.0  Вкусная питца, естт летнее кафе, доставка, при...   \n",
      "1      1000095379     1.0  Думал можно днём с детьми посидеть на открытой...   \n",
      "2      1000095379     4.0  Есть веранда, вкусная пицца, делают по половин...   \n",
      "3      1000095379     1.0                   Уже второй раз забивают на заказ   \n",
      "4      1000095379     5.0                                Любимая пиццерия! 👍   \n",
      "...           ...     ...                                                ...   \n",
      "30044  1118106573     5.0  Потрясающее место! Симбиоз европейского дизайн...   \n",
      "30045  1118106573     5.0  Вкусно, дорого, стало не так душевно, как было...   \n",
      "30046  1118106573     5.0  После ремонта внутри просто шикарно! Мягкие кр...   \n",
      "30047  1118106573     5.0  Потрясающее место! Ходили на новогодних праздн...   \n",
      "30048  1118106573     5.0  Вкусная еда по приемлимым ценам, уютная обстан...   \n",
      "\n",
      "                                            new_rev_text  sentiment  \n",
      "0      вкусная питца естт летнее кафе доставка приемл...          1  \n",
      "1      думал днём детьми посидеть открытой площадке т...          0  \n",
      "2      веранда вкусная пицца делают половине паковка ...          1  \n",
      "3                                  второй забивают заказ          0  \n",
      "4                                     любимая пиццерия 👍          1  \n",
      "...                                                  ...        ...  \n",
      "30044  потрясающее место симбиоз европейского дизайна...          1  \n",
      "30045  вкусно дорого стало душевно 4 года назад серви...          1  \n",
      "30046  ремонта внутри просто шикарно мягкие кресла го...          1  \n",
      "30047  потрясающее место ходили новогодних праздниках...          1  \n",
      "30048  вкусная еда приемлимым ценам уютная обстановка...          1  \n",
      "\n",
      "[30000 rows x 5 columns]\n"
     ]
    }
   ],
   "source": [
    "cleaned[\"new_rev_text\"] = cleaned[\"review_text\"]\n",
    "cleaned[\"new_rev_text\"] = cleaned[\"new_rev_text\"].apply(lambda x: process_tweet(x))\n",
    "print(cleaned)"
   ]
  },
  {
   "cell_type": "markdown",
   "id": "3db97796",
   "metadata": {},
   "source": [
    "Getting sentiments from rating."
   ]
  },
  {
   "cell_type": "code",
   "execution_count": 141,
   "id": "ec89b8b3",
   "metadata": {},
   "outputs": [],
   "source": [
    "def get_sentiment(n):\n",
    "    return 1 if n >= 4 else 0"
   ]
  },
  {
   "cell_type": "code",
   "execution_count": 128,
   "id": "b52541ad",
   "metadata": {},
   "outputs": [],
   "source": [
    "cleaned[\"sentiment\"] = cleaned[\"rating\"].apply(get_sentiment)"
   ]
  },
  {
   "cell_type": "code",
   "execution_count": 129,
   "id": "6d7b0469",
   "metadata": {},
   "outputs": [
    {
     "name": "stdout",
     "output_type": "stream",
     "text": [
      "        permalink  rating                                        review_text  \\\n",
      "0      1000095379     4.0  Вкусная питца, естт летнее кафе, доставка, при...   \n",
      "1      1000095379     1.0  Думал можно днём с детьми посидеть на открытой...   \n",
      "2      1000095379     4.0  Есть веранда, вкусная пицца, делают по половин...   \n",
      "3      1000095379     1.0                   Уже второй раз забивают на заказ   \n",
      "4      1000095379     5.0                                Любимая пиццерия! 👍   \n",
      "...           ...     ...                                                ...   \n",
      "30044  1118106573     5.0  Потрясающее место! Симбиоз европейского дизайн...   \n",
      "30045  1118106573     5.0  Вкусно, дорого, стало не так душевно, как было...   \n",
      "30046  1118106573     5.0  После ремонта внутри просто шикарно! Мягкие кр...   \n",
      "30047  1118106573     5.0  Потрясающее место! Ходили на новогодних праздн...   \n",
      "30048  1118106573     5.0  Вкусная еда по приемлимым ценам, уютная обстан...   \n",
      "\n",
      "                                            new_rev_text  sentiment  \n",
      "0      вкусная питца естт летнее кафе доставка приемл...          1  \n",
      "1      думал днём детьми посидеть открытой площадке т...          0  \n",
      "2      веранда вкусная пицца делают половине паковка ...          1  \n",
      "3                                  второй забивают заказ          0  \n",
      "4                                     любимая пиццерия 👍          1  \n",
      "...                                                  ...        ...  \n",
      "30044  потрясающее место симбиоз европейского дизайна...          1  \n",
      "30045  вкусно дорого стало душевно 4 года назад серви...          1  \n",
      "30046  ремонта внутри просто шикарно мягкие кресла го...          1  \n",
      "30047  потрясающее место ходили новогодних праздниках...          1  \n",
      "30048  вкусная еда приемлимым ценам уютная обстановка...          1  \n",
      "\n",
      "[30000 rows x 5 columns]\n"
     ]
    }
   ],
   "source": [
    "print(cleaned)"
   ]
  },
  {
   "cell_type": "markdown",
   "id": "251db438",
   "metadata": {},
   "source": [
    "Splitting data into test and trained samples."
   ]
  },
  {
   "cell_type": "code",
   "execution_count": 130,
   "id": "34fc9fb0",
   "metadata": {},
   "outputs": [],
   "source": [
    "#X_1, y = np.arange(10).reshape((5, 2)), range(5)\n",
    "y = cleaned['sentiment']\n",
    "X = cleaned['new_rev_text']"
   ]
  },
  {
   "cell_type": "code",
   "execution_count": 131,
   "id": "6b46c88b",
   "metadata": {},
   "outputs": [],
   "source": [
    "X_train, X_test, y_train, y_test = train_test_split(\n",
    "X, y, test_size=0.2, random_state=0)"
   ]
  },
  {
   "cell_type": "markdown",
   "id": "645b8c0b",
   "metadata": {},
   "source": [
    "Applying logistic regression."
   ]
  },
  {
   "cell_type": "code",
   "execution_count": 132,
   "id": "348a499c",
   "metadata": {},
   "outputs": [],
   "source": [
    "from sklearn.feature_extraction.text import CountVectorizer"
   ]
  },
  {
   "cell_type": "code",
   "execution_count": 133,
   "id": "b43e77db",
   "metadata": {},
   "outputs": [],
   "source": [
    "vectorizer = CountVectorizer(analyzer='word', ngram_range=(1, 2))\n",
    "trained_x = vectorizer.fit_transform(X_train)\n",
    "test_x = vectorizer.transform(X_test)"
   ]
  },
  {
   "cell_type": "code",
   "execution_count": 134,
   "id": "bf766b44",
   "metadata": {},
   "outputs": [],
   "source": [
    "from sklearn.linear_model import LogisticRegression\n",
    "from sklearn.metrics import accuracy_score"
   ]
  },
  {
   "cell_type": "code",
   "execution_count": 135,
   "id": "ce3a063d",
   "metadata": {},
   "outputs": [],
   "source": [
    "model = LogisticRegression()\n",
    "model.fit(trained_x, y_train)\n",
    "y_pred_class = model.predict(test_x)"
   ]
  },
  {
   "cell_type": "code",
   "execution_count": 136,
   "id": "2e9b953f",
   "metadata": {},
   "outputs": [
    {
     "data": {
      "text/plain": [
       "0.9046666666666666"
      ]
     },
     "execution_count": 136,
     "metadata": {},
     "output_type": "execute_result"
    }
   ],
   "source": [
    "accuracy_score(y_test, y_pred_class)"
   ]
  },
  {
   "cell_type": "code",
   "execution_count": null,
   "id": "b7ce0cf3",
   "metadata": {},
   "outputs": [],
   "source": []
  }
 ],
 "metadata": {
  "kernelspec": {
   "display_name": "Python 3",
   "language": "python",
   "name": "python3"
  },
  "language_info": {
   "codemirror_mode": {
    "name": "ipython",
    "version": 3
   },
   "file_extension": ".py",
   "mimetype": "text/x-python",
   "name": "python",
   "nbconvert_exporter": "python",
   "pygments_lexer": "ipython3",
   "version": "3.8.8"
  }
 },
 "nbformat": 4,
 "nbformat_minor": 5
}
