{
 "cells": [
  {
   "cell_type": "code",
   "execution_count": 143,
   "id": "92343e38",
   "metadata": {},
   "outputs": [],
   "source": [
    "import nltk                                # Python library for NLP\n",
    "from nltk.corpus import twitter_samples    # sample Twitter dataset from NLTK\n",
    "import matplotlib.pyplot as plt            # library for visualization\n",
    "import random \n",
    "from sklearn.model_selection import train_test_split\n",
    "import numpy as np \n",
    "import pandas as pd \n",
    "import re\n",
    "%matplotlib inline\n",
    "import pandas as pd"
   ]
  },
  {
   "cell_type": "code",
   "execution_count": 144,
   "id": "a5518bab",
   "metadata": {},
   "outputs": [],
   "source": [
    "df=pd.read_csv(\"reviews.tsv\", sep='\\t')"
   ]
  },
  {
   "cell_type": "code",
   "execution_count": 145,
   "id": "9b61766c",
   "metadata": {},
   "outputs": [],
   "source": [
    "# labels = df['rating']\n",
    "# reviews = df['review_text']"
   ]
  },
  {
   "cell_type": "markdown",
   "id": "5fb17ee5",
   "metadata": {},
   "source": [
    "Cleaning data from zero rating scores."
   ]
  },
  {
   "cell_type": "code",
   "execution_count": 146,
   "id": "44da937f",
   "metadata": {},
   "outputs": [
    {
     "name": "stdout",
     "output_type": "stream",
     "text": [
      "           permalink  rating  \\\n",
      "0         1000095379     4.0   \n",
      "1         1000095379     1.0   \n",
      "2         1000095379     4.0   \n",
      "3         1000095379     1.0   \n",
      "4         1000095379     5.0   \n",
      "...              ...     ...   \n",
      "328640  245591834558     5.0   \n",
      "328641  245591834558     5.0   \n",
      "328642  245591834558     5.0   \n",
      "328643  245591834558     1.0   \n",
      "328644  245591834558     1.0   \n",
      "\n",
      "                                              review_text  \n",
      "0       Вкусная питца, естт летнее кафе, доставка, при...  \n",
      "1       Думал можно днём с детьми посидеть на открытой...  \n",
      "2       Есть веранда, вкусная пицца, делают по половин...  \n",
      "3                        Уже второй раз забивают на заказ  \n",
      "4                                     Любимая пиццерия! 👍  \n",
      "...                                                   ...  \n",
      "328640                            Очень вкусная пицца!!!!  \n",
      "328641  Лучший борщ на Роза Хутор!!! Большая порция, т...  \n",
      "328642                        Все понравилось! Пицца норм  \n",
      "328643  обслуживание нормальное, соотношение цена/каче...  \n",
      "328644  Ооочень долгое обслуживание.  Необоснованно вы...  \n",
      "\n",
      "[328369 rows x 3 columns]\n"
     ]
    }
   ],
   "source": [
    "cleaned = df.loc[df['rating'].isin([1, 2, 3, 4, 5])]\n",
    "print(cleaned)"
   ]
  },
  {
   "cell_type": "markdown",
   "id": "f88eafef",
   "metadata": {},
   "source": [
    "Taking the first 30.000 raviews."
   ]
  },
  {
   "cell_type": "code",
   "execution_count": 162,
   "id": "c5d6db9f",
   "metadata": {},
   "outputs": [],
   "source": [
    "cleaned = cleaned.sample(n = 30000)\n",
    "# print(cleaned['rating'])"
   ]
  },
  {
   "cell_type": "markdown",
   "id": "f6f0a418",
   "metadata": {},
   "source": [
    "Cleaning reviews from stop-words, etc."
   ]
  },
  {
   "cell_type": "code",
   "execution_count": 163,
   "id": "679b0fe4",
   "metadata": {},
   "outputs": [],
   "source": [
    "import re\n",
    "import string\n",
    "import numpy as np\n",
    "\n",
    "from nltk.corpus import stopwords\n",
    "from nltk.stem import PorterStemmer\n",
    "from nltk.tokenize import TweetTokenizer"
   ]
  },
  {
   "cell_type": "code",
   "execution_count": 164,
   "id": "a33f8c0b",
   "metadata": {},
   "outputs": [],
   "source": [
    "def process_tweet(tweet):\n",
    "    stemmer = PorterStemmer()\n",
    "    stopwords_russian = stopwords.words('russian')\n",
    "    # remove stock market tickers like $GE\n",
    "    tweet = re.sub(r'\\$\\w*', '', tweet)\n",
    "    # remove old style retweet text \"RT\"\n",
    "    tweet = re.sub(r'^RT[\\s]+', '', tweet)\n",
    "    # remove hyperlinks\n",
    "    tweet = re.sub(r'https?:\\/\\/.*[\\r\\n]*', '', tweet)\n",
    "    # remove hashtags\n",
    "    # only removing the hash # sign from the word\n",
    "    tweet = re.sub(r'#', '', tweet)\n",
    "    # tokenize tweets\n",
    "    tokenizer = TweetTokenizer(preserve_case=False, strip_handles=True,\n",
    "                               reduce_len=True)\n",
    "    tweet_tokens = tokenizer.tokenize(tweet)\n",
    "\n",
    "    tweets_clean = []\n",
    "    for word in tweet_tokens:\n",
    "        if (word not in stopwords_russian and  # remove stopwords\n",
    "                word not in string.punctuation):  # remove punctuation\n",
    "            # tweets_clean.append(word)\n",
    "            stem_word = stemmer.stem(word)  # stemming word\n",
    "            tweets_clean.append(stem_word)\n",
    "    \n",
    "    tweets_clean = \" \".join(tweets_clean)\n",
    "\n",
    "    return tweets_clean"
   ]
  },
  {
   "cell_type": "code",
   "execution_count": 165,
   "id": "4cbbf71c",
   "metadata": {},
   "outputs": [
    {
     "name": "stdout",
     "output_type": "stream",
     "text": [
      "           permalink  rating  \\\n",
      "36307     1145776884     5.0   \n",
      "83744     1675461701     5.0   \n",
      "284202  193672608848     5.0   \n",
      "69118     1349498725     5.0   \n",
      "287612  197752434263     5.0   \n",
      "...              ...     ...   \n",
      "278573  188277603869     5.0   \n",
      "115509    8877879841     4.0   \n",
      "240864  145655935548     5.0   \n",
      "150280   43576080342     5.0   \n",
      "67687     1339601627     5.0   \n",
      "\n",
      "                                              review_text  \\\n",
      "36307                                        Очень вкусно   \n",
      "83744                     Лучший ресторан Азиатской кухни   \n",
      "284202  Обедали семьей в этом кафе. Вкусный томатный с...   \n",
      "69118                                        Вкусная пица   \n",
      "287612                               Всё чисто, не дорого   \n",
      "...                                                   ...   \n",
      "278573  Вкусно, быстро, относительно не дорого. Ну и к...   \n",
      "115509  Вкусная кухня, за приемлемые цены. Есть кальян...   \n",
      "240864         Вкусно по-домашнему, недорого. Рекомендую!   \n",
      "150280  Шикарное место! Домашняя атмосфера, где можно ...   \n",
      "67687                         Вкусно. Спасибо что вы есть   \n",
      "\n",
      "                                             new_rev_text  sentiment  \n",
      "36307                                        очень вкусно          1  \n",
      "83744                     лучший ресторан азиатской кухни          1  \n",
      "284202  обедали семьей кафе вкусный томатный суп меру ...          1  \n",
      "69118                                        вкусная пица          1  \n",
      "287612                                   всё чисто дорого          1  \n",
      "...                                                   ...        ...  \n",
      "278573          вкусно быстро относительно дорого колорит          1  \n",
      "115509  вкусная кухня приемлемые цены кальян музыка св...          1  \n",
      "240864            вкусно по-домашнему недорого рекомендую          1  \n",
      "150280  шикарное место домашняя атмосфера отдохнуть от...          1  \n",
      "67687                                      вкусно спасибо          1  \n",
      "\n",
      "[30000 rows x 5 columns]\n"
     ]
    }
   ],
   "source": [
    "cleaned[\"new_rev_text\"] = cleaned[\"review_text\"]\n",
    "cleaned[\"new_rev_text\"] = cleaned[\"new_rev_text\"].apply(lambda x: process_tweet(x))\n",
    "print(cleaned)"
   ]
  },
  {
   "cell_type": "markdown",
   "id": "af65dca9",
   "metadata": {},
   "source": [
    "Getting sentiments from rating."
   ]
  },
  {
   "cell_type": "code",
   "execution_count": 166,
   "id": "59d2d0fd",
   "metadata": {},
   "outputs": [],
   "source": [
    "def get_sentiment(n):\n",
    "    return 1 if n >= 4 else 0"
   ]
  },
  {
   "cell_type": "code",
   "execution_count": 167,
   "id": "4a7c047d",
   "metadata": {},
   "outputs": [],
   "source": [
    "cleaned[\"sentiment\"] = cleaned[\"rating\"].apply(get_sentiment)"
   ]
  },
  {
   "cell_type": "code",
   "execution_count": 168,
   "id": "15c99114",
   "metadata": {},
   "outputs": [
    {
     "name": "stdout",
     "output_type": "stream",
     "text": [
      "           permalink  rating  \\\n",
      "36307     1145776884     5.0   \n",
      "83744     1675461701     5.0   \n",
      "284202  193672608848     5.0   \n",
      "69118     1349498725     5.0   \n",
      "287612  197752434263     5.0   \n",
      "...              ...     ...   \n",
      "278573  188277603869     5.0   \n",
      "115509    8877879841     4.0   \n",
      "240864  145655935548     5.0   \n",
      "150280   43576080342     5.0   \n",
      "67687     1339601627     5.0   \n",
      "\n",
      "                                              review_text  \\\n",
      "36307                                        Очень вкусно   \n",
      "83744                     Лучший ресторан Азиатской кухни   \n",
      "284202  Обедали семьей в этом кафе. Вкусный томатный с...   \n",
      "69118                                        Вкусная пица   \n",
      "287612                               Всё чисто, не дорого   \n",
      "...                                                   ...   \n",
      "278573  Вкусно, быстро, относительно не дорого. Ну и к...   \n",
      "115509  Вкусная кухня, за приемлемые цены. Есть кальян...   \n",
      "240864         Вкусно по-домашнему, недорого. Рекомендую!   \n",
      "150280  Шикарное место! Домашняя атмосфера, где можно ...   \n",
      "67687                         Вкусно. Спасибо что вы есть   \n",
      "\n",
      "                                             new_rev_text  sentiment  \n",
      "36307                                        очень вкусно          1  \n",
      "83744                     лучший ресторан азиатской кухни          1  \n",
      "284202  обедали семьей кафе вкусный томатный суп меру ...          1  \n",
      "69118                                        вкусная пица          1  \n",
      "287612                                   всё чисто дорого          1  \n",
      "...                                                   ...        ...  \n",
      "278573          вкусно быстро относительно дорого колорит          1  \n",
      "115509  вкусная кухня приемлемые цены кальян музыка св...          1  \n",
      "240864            вкусно по-домашнему недорого рекомендую          1  \n",
      "150280  шикарное место домашняя атмосфера отдохнуть от...          1  \n",
      "67687                                      вкусно спасибо          1  \n",
      "\n",
      "[30000 rows x 5 columns]\n"
     ]
    }
   ],
   "source": [
    "print(cleaned)"
   ]
  },
  {
   "cell_type": "markdown",
   "id": "afa0bdc1",
   "metadata": {},
   "source": [
    "Splitting data into test and trained samples."
   ]
  },
  {
   "cell_type": "code",
   "execution_count": 169,
   "id": "34fc9fb0",
   "metadata": {},
   "outputs": [],
   "source": [
    "#X_1, y = np.arange(10).reshape((5, 2)), range(5)\n",
    "y = cleaned['sentiment']\n",
    "X = cleaned['new_rev_text']"
   ]
  },
  {
   "cell_type": "code",
   "execution_count": 170,
   "id": "6b46c88b",
   "metadata": {},
   "outputs": [],
   "source": [
    "X_train, X_test, y_train, y_test = train_test_split(\n",
    "X, y, test_size=0.2, random_state=0)"
   ]
  },
  {
   "cell_type": "markdown",
   "id": "7ac41463",
   "metadata": {},
   "source": [
    "Applying logistic regression."
   ]
  },
  {
   "cell_type": "code",
   "execution_count": 171,
   "id": "348a499c",
   "metadata": {},
   "outputs": [],
   "source": [
    "from sklearn.feature_extraction.text import CountVectorizer"
   ]
  },
  {
   "cell_type": "code",
   "execution_count": 172,
   "id": "b43e77db",
   "metadata": {},
   "outputs": [],
   "source": [
    "vectorizer = CountVectorizer(analyzer='word', ngram_range=(1, 2))\n",
    "trained_x = vectorizer.fit_transform(X_train)\n",
    "test_x = vectorizer.transform(X_test)"
   ]
  },
  {
   "cell_type": "code",
   "execution_count": 173,
   "id": "e3bc70d2",
   "metadata": {},
   "outputs": [],
   "source": [
    "from sklearn.linear_model import LogisticRegression\n",
    "from sklearn.metrics import accuracy_score"
   ]
  },
  {
   "cell_type": "code",
   "execution_count": 174,
   "id": "4f893bb3",
   "metadata": {},
   "outputs": [],
   "source": [
    "model = LogisticRegression()\n",
    "model.fit(trained_x, y_train)\n",
    "y_pred_class = model.predict(test_x)"
   ]
  },
  {
   "cell_type": "code",
   "execution_count": 175,
   "id": "1053e81d",
   "metadata": {},
   "outputs": [
    {
     "data": {
      "text/plain": [
       "0.9088333333333334"
      ]
     },
     "execution_count": 175,
     "metadata": {},
     "output_type": "execute_result"
    }
   ],
   "source": [
    "accuracy_score(y_test, y_pred_class)"
   ]
  },
  {
   "cell_type": "code",
   "execution_count": null,
   "id": "b7ce0cf3",
   "metadata": {},
   "outputs": [],
   "source": []
  }
 ],
 "metadata": {
  "kernelspec": {
   "display_name": "Python 3",
   "language": "python",
   "name": "python3"
  },
  "language_info": {
   "codemirror_mode": {
    "name": "ipython",
    "version": 3
   },
   "file_extension": ".py",
   "mimetype": "text/x-python",
   "name": "python",
   "nbconvert_exporter": "python",
   "pygments_lexer": "ipython3",
   "version": "3.8.8"
  }
 },
 "nbformat": 4,
 "nbformat_minor": 5
}
